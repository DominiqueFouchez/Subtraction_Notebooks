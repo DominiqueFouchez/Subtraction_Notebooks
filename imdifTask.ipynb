{
 "metadata": {
  "name": ""
 },
 "nbformat": 3,
 "nbformat_minor": 0,
 "worksheets": [
  {
   "cells": [
    {
     "cell_type": "markdown",
     "metadata": {},
     "source": [
      "Initializations"
     ]
    },
    {
     "cell_type": "code",
     "collapsed": false,
     "input": [
      "import math\n",
      "import random\n",
      "import numpy\n",
      "\n",
      "import lsst.pex.config as pexConfig\n",
      "import lsst.pipe.base as pipeBase\n",
      "import lsst.daf.base as dafBase\n",
      "import lsst.afw.geom as afwGeom\n",
      "import lsst.afw.math as afwMath\n",
      "import lsst.afw.table as afwTable\n",
      "import lsst.meas.astrom as measAstrom\n",
      "from lsst.pipe.tasks.registerImage import RegisterTask\n",
      "from lsst.meas.algorithms import SourceDetectionTask, \\\n",
      "    starSelectorRegistry, PsfAttributes, SingleGaussianPsf\n",
      "from lsst.ip.diffim import ImagePsfMatchTask, DipoleMeasurementTask, DipoleAnalysis, \\\n",
      "    SourceFlagChecker, KernelCandidateF, cast_KernelCandidateF, makeKernelBasisList, \\\n",
      "    KernelCandidateQa\n",
      "#DiaCatalogSourceSelector, DiaCatalogSourceSelectorConfig\n",
      "import lsst.ip.diffim.diffimTools as diffimTools\n",
      "import lsst.ip.diffim.utils as diUtils\n"
     ],
     "language": "python",
     "metadata": {},
     "outputs": [],
     "prompt_number": 1
    },
    {
     "cell_type": "markdown",
     "metadata": {},
     "source": [
      "Select science and template images"
     ]
    },
    {
     "cell_type": "code",
     "collapsed": false,
     "input": [
      "import lsst.afw.image as afwImage\n",
      "DATADIR=\"/renoir_data_02/jpreyes/lsst_data/data/CFHTLS_TEST\"\n",
      "scienceFolder = \"subtract+0\"\n",
      "templateFolder = \"coaddition\"\n",
      "\n",
      "SciencePath = DATADIR+\"/output/coadd_r_dir/\"+scienceFolder+\"/deepCoadd/r/1/33,15.fits\"\n",
      "TemplatePath = DATADIR+\"/output/coadd_r_dir/\"+templateFolder+\"/deepCoadd/r/1/33,15.fits\"\n",
      "#SciencePath = DATADIR+\"/output/calexp/06AL01/D3/2006-05-24/r/calexp-849686-14.fits\"\n",
      "#TemplatePath = DATADIR+\"/output/calexp/06AL01/D3/2006-05-24/r/calexp-849688-14.fits\"\n",
      "scienceExp = afwImage.ExposureF(SciencePath)\n",
      "templateExp = afwImage.ExposureF(TemplatePath)\n"
     ],
     "language": "python",
     "metadata": {},
     "outputs": [],
     "prompt_number": 2
    },
    {
     "cell_type": "markdown",
     "metadata": {},
     "source": [
      "Various initialisation, done inside the 'Config' class in the original Task"
     ]
    },
    {
     "cell_type": "code",
     "collapsed": false,
     "input": [
      "self_schema = afwTable.SourceTable.makeMinimalSchema()\n",
      "self_algMetadata = dafBase.PropertyList()"
     ],
     "language": "python",
     "metadata": {},
     "outputs": [],
     "prompt_number": 3
    },
    {
     "cell_type": "code",
     "collapsed": false,
     "input": [
      "import lsst.ip.diffim as ipDiffim\n",
      "config = ipDiffim.ImagePsfMatchTask.ConfigClass()\n",
      "#Kernel name is Alard-Lupton by default\n",
      "config.kernel.name = \"AL\"\n",
      "subconfig = config.kernel.active\n",
      "psfmatch = ipDiffim.ImagePsfMatchTask(config)\n"
     ],
     "language": "python",
     "metadata": {},
     "outputs": [],
     "prompt_number": 4
    },
    {
     "cell_type": "code",
     "collapsed": false,
     "input": [
      "detection = SourceDetectionTask()\n",
      "#configdet = DipoleMeasurementTask.ConfigClass()\n",
      "#measurement = DipoleMeasurementTask(configdet)"
     ],
     "language": "python",
     "metadata": {},
     "outputs": [],
     "prompt_number": 5
    },
    {
     "cell_type": "markdown",
     "metadata": {},
     "source": [
      "Definition : exposure is for scince image, templateExposure\n",
      "    Find sources on template"
     ]
    },
    {
     "cell_type": "code",
     "collapsed": false,
     "input": [
      "exposure = scienceExp\n",
      "sciencePsf = exposure.getPsf()\n",
      "templateExposure = templateExp\n",
      "#templateSources = template.sources  ????\n",
      "templateSources = psfmatch.getSelectSources(templateExposure)\n"
     ],
     "language": "python",
     "metadata": {},
     "outputs": [],
     "prompt_number": 6
    },
    {
     "cell_type": "markdown",
     "metadata": {},
     "source": [
      "compute initial parameters on images + convolution"
     ]
    },
    {
     "cell_type": "code",
     "collapsed": false,
     "input": [
      "# compute scienceSigmaOrig: sigma of PSF of science image before pre-convolution\n",
      "ctr = afwGeom.Box2D(exposure.getBBox(afwImage.PARENT)).getCenter()\n",
      "print ctr\n",
      "psfAttr = PsfAttributes(sciencePsf, afwGeom.Point2I(ctr))\n",
      "scienceSigmaOrig = psfAttr.computeGaussianWidth(psfAttr.ADAPTIVE_MOMENT)\n",
      "\n",
      "# sigma of PSF of template image before warping\n",
      "ctr = afwGeom.Box2D(templateExposure.getBBox(afwImage.PARENT)).getCenter()\n",
      "psfAttr = PsfAttributes(templateExposure.getPsf(), afwGeom.Point2I(ctr))\n",
      "templateSigma = psfAttr.computeGaussianWidth(psfAttr.ADAPTIVE_MOMENT)\n",
      "\n",
      "# if requested, convolve the science exposure with its PSF\n",
      "# (properly, this should be a cross-correlation, but our code does not yet support that)\n",
      "# compute scienceSigmaPost: sigma of science exposure with pre-convolution, if done,\n",
      "# else sigma of original science exposure\n",
      "\n",
      "self_config_doPreConvolve = True\n",
      "self_config_useGaussianForPreConvolution = True\n",
      "\n",
      "if self_config_doPreConvolve:\n",
      "    convControl = afwMath.ConvolutionControl()\n",
      "    # cannot convolve in place, so make a new MI to receive convolved image\n",
      "    srcMI = exposure.getMaskedImage()\n",
      "    destMI = srcMI.Factory(srcMI.getDimensions())\n",
      "    srcPsf = sciencePsf\n",
      "    if self_config_useGaussianForPreConvolution:\n",
      "        # convolve with a simplified PSF model: a double Gaussian\n",
      "        kWidth, kHeight = sciencePsf.getLocalKernel().getDimensions()\n",
      "        preConvPsf = SingleGaussianPsf(kWidth, kHeight, scienceSigmaOrig)\n",
      "    else:\n",
      "        # convolve with science exposure's PSF model\n",
      "        preConvPsf = srcPsf\n",
      "    afwMath.convolve(destMI, srcMI, preConvPsf.getLocalKernel(), convControl)\n",
      "    exposure.setMaskedImage(destMI)\n",
      "    scienceSigmaPost = scienceSigmaOrig * math.sqrt(2)\n",
      "else:\n",
      "    scienceSigmaPost = scienceSigmaOrig\n"
     ],
     "language": "python",
     "metadata": {},
     "outputs": [
      {
       "output_type": "stream",
       "stream": "stdout",
       "text": [
        "(1023.5, 2305.5)\n"
       ]
      }
     ],
     "prompt_number": 7
    },
    {
     "cell_type": "markdown",
     "metadata": {},
     "source": [
      "Select sources on exposure (the science image)"
     ]
    },
    {
     "cell_type": "code",
     "collapsed": false,
     "input": [
      "#expId=18\n",
      "#expBits = 64\n",
      "#idFactory = afwTable.IdFactory.makeSource(expId, 64 - expBits)\n",
      "self_doPreConvolve= True\n",
      "selectSources = psfmatch.getSelectSources(exposure,\n",
      "                        sigma = scienceSigmaPost,\n",
      "                        doSmooth = not self_doPreConvolve,)\n",
      "#                        idFactory = idFactory,)"
     ],
     "language": "python",
     "metadata": {},
     "outputs": [],
     "prompt_number": 8
    },
    {
     "cell_type": "markdown",
     "metadata": {},
     "source": [
      "initialisation for the kernel"
     ]
    },
    {
     "cell_type": "code",
     "collapsed": false,
     "input": [
      "FwhmPerSigma = 2 * math.sqrt(2 * math.log(2))\n",
      "IqrToSigma = 0.741\n",
      "nparam = len(makeKernelBasisList(psfmatch.config.kernel.active,\n",
      "            referenceFwhmPix=scienceSigmaPost * FwhmPerSigma,\n",
      "            targetFwhmPix=templateSigma * FwhmPerSigma))\n"
     ],
     "language": "python",
     "metadata": {},
     "outputs": [],
     "prompt_number": 9
    },
    {
     "cell_type": "markdown",
     "metadata": {},
     "source": [
      "initialisation for the Quality assesment task"
     ]
    },
    {
     "cell_type": "code",
     "collapsed": false,
     "input": [
      "import kernelCandidateQa as qa\n",
      "kcQa = qa.KernelCandidateQa(nparam)\n",
      "selectSources = kcQa.addToSchema(selectSources)\n"
     ],
     "language": "python",
     "metadata": {},
     "outputs": [],
     "prompt_number": 10
    },
    {
     "cell_type": "markdown",
     "metadata": {},
     "source": [
      "Now each source in the exposure (selectsources) has new variables KCblabla, see below"
     ]
    },
    {
     "cell_type": "code",
     "collapsed": false,
     "input": [
      "#print selectSources[0].schema"
     ],
     "language": "python",
     "metadata": {},
     "outputs": [],
     "prompt_number": 11
    },
    {
     "cell_type": "markdown",
     "metadata": {},
     "source": [
      "Then we need to construct the kernel, first find common sources :"
     ]
    },
    {
     "cell_type": "code",
     "collapsed": false,
     "input": [
      "matches = afwTable.matchRaDec(templateSources, selectSources, 1.0*afwGeom.arcseconds,\n",
      "                                                  False)\n",
      "\n",
      "\n",
      "#astromRet = measAstrom.Astrometry..loadAndMatch(exposure=exposure, sourceCat=selectSources)\n",
      "#matches = astromRet.matches"
     ],
     "language": "python",
     "metadata": {},
     "outputs": [],
     "prompt_number": 12
    },
    {
     "cell_type": "code",
     "collapsed": false,
     "input": [
      "len(matches)"
     ],
     "language": "python",
     "metadata": {},
     "outputs": [
      {
       "metadata": {},
       "output_type": "pyout",
       "prompt_number": 13,
       "text": [
        "153"
       ]
      }
     ],
     "prompt_number": 13
    },
    {
     "cell_type": "markdown",
     "metadata": {},
     "source": [
      "We want to use good stars, the information is not here right now, use everything (work with a copy of diaCatalogSourceSelector) hacked to select everything"
     ]
    },
    {
     "cell_type": "code",
     "collapsed": false,
     "input": [
      "import diaCatalogSourceSelectorv92 as diaCSS\n",
      "#sourceSelector = starSelectorRegistry.makeField(\"Source selection algorithm\", default=\"diacatalog\")\n",
      "#sourceSelector = sourceSelector.diacatalog\n",
      "#hasattr(sourceSelector, 'selectStars')\n",
      "sourceSelector = diaCSS.DiaCatalogSourceSelector()"
     ],
     "language": "python",
     "metadata": {},
     "outputs": [],
     "prompt_number": 14
    },
    {
     "cell_type": "code",
     "collapsed": false,
     "input": [
      "kernelSources = sourceSelector.selectSources(exposure, selectSources, matches=matches)"
     ],
     "language": "python",
     "metadata": {},
     "outputs": [],
     "prompt_number": 15
    },
    {
     "cell_type": "code",
     "collapsed": false,
     "input": [
      "print len(selectSources)\n",
      "print len(matches)\n",
      "print len(kernelSources)\n",
      "#print kernelSources[0].schema"
     ],
     "language": "python",
     "metadata": {},
     "outputs": [
      {
       "output_type": "stream",
       "stream": "stdout",
       "text": [
        "810\n",
        "153\n",
        "135\n"
       ]
      }
     ],
     "prompt_number": 16
    },
    {
     "cell_type": "markdown",
     "metadata": {},
     "source": [
      "Below = to be described later ..."
     ]
    },
    {
     "cell_type": "code",
     "collapsed": false,
     "input": [
      "controlStepSize = 5\n",
      "random.shuffle(kernelSources, random.random)\n",
      "controlSources = kernelSources[::controlStepSize]\n",
      "kernelSources = [k for i,k in enumerate(kernelSources) if i % controlStepSize]\n"
     ],
     "language": "python",
     "metadata": {},
     "outputs": [],
     "prompt_number": 17
    },
    {
     "cell_type": "code",
     "collapsed": false,
     "input": [
      "len(kernelSources)"
     ],
     "language": "python",
     "metadata": {},
     "outputs": [
      {
       "metadata": {},
       "output_type": "pyout",
       "prompt_number": 18,
       "text": [
        "108"
       ]
      }
     ],
     "prompt_number": 18
    },
    {
     "cell_type": "markdown",
     "metadata": {},
     "source": [
      "register and warp templateExposure to exposure (alignment before subtraction)"
     ]
    },
    {
     "cell_type": "code",
     "collapsed": false,
     "input": [
      "#wcsResults = self.fitAstrometry(templateSources, templateExposure, selectSources)\n",
      "register = RegisterTask(name=\"reg\")\n",
      "wcsResults = register.run(templateSources, templateExposure.getWcs(),\n",
      "                                    templateExposure.getBBox(), selectSources)\n",
      "\n",
      "warpedExp = register.warpExposure(templateExposure, wcsResults.wcs,\n",
      "                                            exposure.getWcs(), exposure.getBBox())\n",
      "templateExposure2 = warpedExp\n"
     ],
     "language": "python",
     "metadata": {},
     "outputs": [],
     "prompt_number": 19
    },
    {
     "cell_type": "markdown",
     "metadata": {},
     "source": [
      "subtract, but below do no work (not yet debugged)"
     ]
    },
    {
     "cell_type": "code",
     "collapsed": false,
     "input": [
      "convolveTemplate = False\n",
      "doUseRegister = False\n",
      "subtractRes = psfmatch.subtractExposures(\n",
      "                templateExposure=templateExposure2,\n",
      "                scienceExposure=exposure,\n",
      "                candidateList=kernelSources,\n",
      "                convolveTemplate=convolveTemplate,\n",
      "                doWarping=not doUseRegister\n",
      "            )\n",
      "subtractedExposure = subtractRes.subtractedExposure\n",
      "\n",
      " "
     ],
     "language": "python",
     "metadata": {},
     "outputs": [],
     "prompt_number": 36
    },
    {
     "cell_type": "code",
     "collapsed": false,
     "input": [
      "import lsst.afw.display.ds9 as ds9\n",
      "ds9.setMaskTransparency(90)\n",
      "ds9.mtv(subtractedExposure)"
     ],
     "language": "python",
     "metadata": {},
     "outputs": [],
     "prompt_number": 37
    },
    {
     "cell_type": "markdown",
     "metadata": {},
     "source": [
      "So use this version below (from Juan Pablo)"
     ]
    },
    {
     "cell_type": "markdown",
     "metadata": {},
     "source": [
      "To be described later"
     ]
    },
    {
     "cell_type": "code",
     "collapsed": false,
     "input": [
      "config_doPreConvolve = True\n",
      "# Erase existing detection mask planes\n",
      "mask  = subtractedExposure.getMaskedImage().getMask()\n",
      "mask &= ~(mask.getPlaneBitMask(\"DETECTED\") | mask.getPlaneBitMask(\"DETECTED_NEGATIVE\"))\n",
      "\n",
      "table = afwTable.SourceTable.make(self_schema)\n",
      "table.setMetadata(self_algMetadata)\n",
      "results = detection.makeSourceCatalog(\n",
      "    table=table,\n",
      "    exposure=subtractedExposure,\n",
      "    doSmooth=not config_doPreConvolve\n",
      ")\n"
     ],
     "language": "python",
     "metadata": {},
     "outputs": [],
     "prompt_number": 23
    },
    {
     "cell_type": "code",
     "collapsed": false,
     "input": [
      "#self_config_growFootprint=2\n",
      "#fpSet = results.fpSets.positive\n",
      "#fpSet.merge(results.fpSets.negative, self_config_growFootprint,\n",
      "#                            self_config_growFootprint, False)\n",
      "#diaSources = afwTable.SourceCatalog(table)\n",
      "#fpSet.makeSources(diaSources)\n",
      "diaSources = results.sources"
     ],
     "language": "python",
     "metadata": {},
     "outputs": [],
     "prompt_number": 24
    },
    {
     "cell_type": "markdown",
     "metadata": {},
     "source": [
      "Measurements on diasources is not yet working"
     ]
    },
    {
     "cell_type": "code",
     "collapsed": false,
     "input": [
      "#measurement.run(diaSources, subtractedExposure)"
     ],
     "language": "python",
     "metadata": {},
     "outputs": [],
     "prompt_number": 25
    },
    {
     "cell_type": "markdown",
     "metadata": {},
     "source": [
      "To be described later"
     ]
    },
    {
     "cell_type": "code",
     "collapsed": false,
     "input": [
      "kernelCandList = []\n",
      "for cell in subtractRes.kernelCellSet.getCellList():\n",
      "    for cand in cell.begin(False): # include bad candidates\n",
      "        kernelCandList.append(cast_KernelCandidateF(cand))"
     ],
     "language": "python",
     "metadata": {},
     "outputs": [],
     "prompt_number": 26
    },
    {
     "cell_type": "code",
     "collapsed": false,
     "input": [
      "len(kernelCandList)"
     ],
     "language": "python",
     "metadata": {},
     "outputs": [
      {
       "metadata": {},
       "output_type": "pyout",
       "prompt_number": 27,
       "text": [
        "106"
       ]
      }
     ],
     "prompt_number": 27
    },
    {
     "cell_type": "code",
     "collapsed": false,
     "input": [
      "basisList = afwMath.cast_LinearCombinationKernel(\n",
      "kernelCandList[0].getKernel(KernelCandidateF.ORIG)).getKernelList()"
     ],
     "language": "python",
     "metadata": {},
     "outputs": [],
     "prompt_number": 28
    },
    {
     "cell_type": "markdown",
     "metadata": {},
     "source": [
      "A dummy task .. to get a logger function (d.log) ask in next cell .."
     ]
    },
    {
     "cell_type": "code",
     "collapsed": false,
     "input": [
      "class myTaskConfig(pexConfig.Config):\n",
      "    s=1\n",
      "class myTask(pipeBase.CmdLineTask):\n",
      "    _DefaultName = \"hop\"\n",
      "    ConfigClass = myTaskConfig\n",
      "    def __init__(self, **kwargs):\n",
      "        pipeBase.CmdLineTask.__init__(self, **kwargs)    \n",
      "    def run(self):\n",
      "        self.hop=None\n",
      "        \n",
      "d=myTask()"
     ],
     "language": "python",
     "metadata": {},
     "outputs": [],
     "prompt_number": 29
    },
    {
     "cell_type": "markdown",
     "metadata": {},
     "source": [
      "Make the control Cand list"
     ]
    },
    {
     "cell_type": "code",
     "collapsed": false,
     "input": [
      "config_subtract = config\n",
      "controlCandList = \\\n",
      "                    diffimTools.sourceTableToCandidateList(controlSources, \n",
      "                                                           subtractRes.warpedExposure, exposure,\n",
      "                                                           config_subtract.kernel.active,\n",
      "                                                           config_subtract.kernel.active.detectionConfig,\n",
      "                                                           d.log, doBuild=True, basisList=basisList)\n"
     ],
     "language": "python",
     "metadata": {},
     "outputs": [],
     "prompt_number": 30
    },
    {
     "cell_type": "markdown",
     "metadata": {},
     "source": [
      "Borrowed from Juan Pablo, don't understant why not present on original Task "
     ]
    },
    {
     "cell_type": "code",
     "collapsed": false,
     "input": [
      "from lsst.ip.diffim import diffimLib\n",
      "\n",
      "for kernelCandidate in kernelCandList:\n",
      "     if kernelCandidate.getStatus() != afwMath.SpatialCellCandidate.UNKNOWN:\n",
      "\n",
      "         kType = getattr(diffimLib.KernelCandidateF, \"ORIG\")\n",
      "         di = kernelCandidate.getDifferenceImage(kType)\n",
      "         mask = di.getMask()\n",
      "         mask.addMaskPlane(\"NO_DATA\")\n"
     ],
     "language": "python",
     "metadata": {},
     "outputs": [],
     "prompt_number": 31
    },
    {
     "cell_type": "markdown",
     "metadata": {},
     "source": [
      "Now computation of QA on both Cand list"
     ]
    },
    {
     "cell_type": "code",
     "collapsed": false,
     "input": [
      "kcQa.apply(kernelCandList, subtractRes.psfMatchingKernel, subtractRes.backgroundModel,\n",
      "                                dof=nparam)\n",
      "kcQa.apply(controlCandList, subtractRes.psfMatchingKernel, subtractRes.backgroundModel)"
     ],
     "language": "python",
     "metadata": {},
     "outputs": [],
     "prompt_number": 32
    },
    {
     "cell_type": "markdown",
     "metadata": {},
     "source": [
      "An example of one QA info"
     ]
    },
    {
     "cell_type": "code",
     "collapsed": false,
     "input": [
      "%matplotlib inline\n",
      "import matplotlib.pyplot as plt\n",
      "kc1 =[]\n",
      "for k in kernelCandList:\n",
      "    kc = k.getSource()['KCDiffimMedian_LOCAL']\n",
      "    if not math.isnan(kc):\n",
      "        kc1.append(kc)\n",
      "kc1    \n",
      "plt.hist(kc1)"
     ],
     "language": "python",
     "metadata": {},
     "outputs": [
      {
       "metadata": {},
       "output_type": "pyout",
       "prompt_number": 34,
       "text": [
        "(array([  1.,   0.,   0.,   0.,   1.,   0.,   1.,   3.,  52.,  48.]),\n",
        " array([-0.71051371, -0.63133117, -0.55214863, -0.47296608, -0.39378354,\n",
        "       -0.314601  , -0.23541846, -0.15623592, -0.07705337,  0.00212917,\n",
        "        0.08131171]),\n",
        " <a list of 10 Patch objects>)"
       ]
      },
      {
       "metadata": {},
       "output_type": "display_data",
       "png": "[encoded data removed]",
       "text": [
        "<matplotlib.figure.Figure at 0xc604c50>"
       ]
      }
     ],
     "prompt_number": 34
    },
    {
     "cell_type": "code",
     "collapsed": false,
     "input": [],
     "language": "python",
     "metadata": {},
     "outputs": []
    }
   ],
   "metadata": {}
  }
 ]
}